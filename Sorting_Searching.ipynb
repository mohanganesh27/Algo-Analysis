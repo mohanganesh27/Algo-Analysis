{
  "nbformat": 4,
  "nbformat_minor": 0,
  "metadata": {
    "colab": {
      "provenance": [],
      "authorship_tag": "ABX9TyO8n3XW4PDS8ZWemJys76b0",
      "include_colab_link": true
    },
    "kernelspec": {
      "name": "python3",
      "display_name": "Python 3"
    },
    "language_info": {
      "name": "python"
    }
  },
  "cells": [
    {
      "cell_type": "markdown",
      "metadata": {
        "id": "view-in-github",
        "colab_type": "text"
      },
      "source": [
        "<a href=\"https://colab.research.google.com/github/mohanganesh27/Algo-Analysis/blob/main/Sorting_Searching.ipynb\" target=\"_parent\"><img src=\"https://colab.research.google.com/assets/colab-badge.svg\" alt=\"Open In Colab\"/></a>"
      ]
    },
    {
      "cell_type": "markdown",
      "source": [
        "**SELECTION SORT**"
      ],
      "metadata": {
        "id": "xXZqDVMADnvH"
      }
    },
    {
      "cell_type": "code",
      "execution_count": 1,
      "metadata": {
        "colab": {
          "base_uri": "https://localhost:8080/"
        },
        "id": "9ln2Jg-GDfCR",
        "outputId": "b7f6004e-57ff-4f64-df34-0347ff21e085"
      },
      "outputs": [
        {
          "output_type": "stream",
          "name": "stdout",
          "text": [
            "[11, 12, 22, 25, 34, 64, 90]\n"
          ]
        }
      ],
      "source": [
        "def selec_srt(arr):\n",
        "  n = len(arr)\n",
        "  for i in range(n):\n",
        "    min = i\n",
        "    for j in range(i+1, n):\n",
        "      if arr[j] < arr[min]:\n",
        "        min = j\n",
        "    arr[i], arr[min] = arr[min], arr[i]\n",
        "  return arr\n",
        "\n",
        "arr = [64, 34, 25, 12, 22, 11, 90]\n",
        "print(selec_srt(arr))"
      ]
    },
    {
      "cell_type": "markdown",
      "source": [
        "**INSERTION SORT**"
      ],
      "metadata": {
        "id": "cIlIefY9Dhyn"
      }
    },
    {
      "cell_type": "code",
      "source": [
        "def inser_srt(arr):\n",
        "  for i in range(1, len(arr)):\n",
        "    key = arr[i]\n",
        "    j = i-1\n",
        "    while j >= 0 and arr[j]>key:\n",
        "      arr[j+1] = arr[j]\n",
        "      j -= 1\n",
        "    arr[j+1] = key\n",
        "  return arr\n",
        "\n",
        "arr = [64, 34, 25, 12, 22, 11, 90]\n",
        "print(inser_srt(arr))"
      ],
      "metadata": {
        "colab": {
          "base_uri": "https://localhost:8080/"
        },
        "id": "HFoM09UJDiUp",
        "outputId": "0229f7af-716e-4b30-855d-405345930755"
      },
      "execution_count": 2,
      "outputs": [
        {
          "output_type": "stream",
          "name": "stdout",
          "text": [
            "[11, 12, 22, 25, 34, 64, 90]\n"
          ]
        }
      ]
    },
    {
      "cell_type": "markdown",
      "source": [
        "**BUBBLE SORT**"
      ],
      "metadata": {
        "id": "cCG3ojnbDmbU"
      }
    },
    {
      "cell_type": "code",
      "source": [
        "def bub_sort(arr):\n",
        "  n = len(arr)\n",
        "  for i in range(n):\n",
        "    for j in range(0, n-i-1):\n",
        "      if arr[j] >arr[j+1]:\n",
        "        arr[j],arr[j+1] = arr[j+1], arr[j]\n",
        "  return arr\n",
        "\n",
        "arr = [69,34,25,12,22,11,90]\n",
        "print(bub_sort(arr))\n"
      ],
      "metadata": {
        "colab": {
          "base_uri": "https://localhost:8080/"
        },
        "id": "hoGvd3qKD1Eu",
        "outputId": "09e73260-021b-43fa-ebf7-d49dfbced89a"
      },
      "execution_count": 4,
      "outputs": [
        {
          "output_type": "stream",
          "name": "stdout",
          "text": [
            "[11, 12, 22, 25, 34, 69, 90]\n"
          ]
        }
      ]
    },
    {
      "cell_type": "markdown",
      "source": [
        "QUICK SORT"
      ],
      "metadata": {
        "id": "0lkNUysVD9OO"
      }
    },
    {
      "cell_type": "code",
      "source": [
        "def quick_srt(arr, low, high):\n",
        "  if low < high:\n",
        "    p = partition(arr, low, high)\n",
        "    quick_srt(arr, low, p-1)\n",
        "    quick_srt(arr, p+1, high)\n",
        "  return arr\n",
        "\n",
        "def partition(arr,low,high):\n",
        "  p = arr[low]\n",
        "  i = low\n",
        "  j= high\n",
        "  while True:\n",
        "    while i <= j and arr[i] <= p:\n",
        "      i += 1\n",
        "    while i <= j and arr[j] >= p:\n",
        "      j -= 1\n",
        "    if i<=j:\n",
        "      arr[i], arr[j] = arr[j], arr[i]\n",
        "    else:\n",
        "      break\n",
        "  arr[low], arr[j] = arr[j], arr[low]\n",
        "  return j\n",
        "\n",
        "\n",
        "arr = [69,34,25,12,22,11,90]\n",
        "print(quick_srt(arr, 0, len(arr)-1))"
      ],
      "metadata": {
        "colab": {
          "base_uri": "https://localhost:8080/"
        },
        "id": "QRcWb8LpD902",
        "outputId": "e9a39a56-47b2-4f58-f162-e607aa9a58f0"
      },
      "execution_count": 5,
      "outputs": [
        {
          "output_type": "stream",
          "name": "stdout",
          "text": [
            "[11, 12, 22, 25, 34, 69, 90]\n"
          ]
        }
      ]
    },
    {
      "cell_type": "markdown",
      "source": [
        "MERGE SORT"
      ],
      "metadata": {
        "id": "GfBj-Y0eEL6d"
      }
    },
    {
      "cell_type": "code",
      "source": [
        "def merge(left, right):\n",
        "  new = []\n",
        "  i = j = 0\n",
        "  while i<len(left) and j<len(right):\n",
        "    if left[i]<right[j]:\n",
        "      new.append(left[i])\n",
        "      i+=1\n",
        "    else:\n",
        "      new.append(right[j])\n",
        "      j+=1\n",
        "\n",
        "  new.extend(left[i:])\n",
        "  new.extend(right[j:])\n",
        "  return new\n",
        "\n",
        "def merge_srt(arr):\n",
        "  if len(arr)<=1:\n",
        "    return arr\n",
        "  mid = len(arr)//2\n",
        "  lh = arr[:mid]\n",
        "  rh = arr[mid:]\n",
        "  lh = merge_srt(lh)\n",
        "  rh = merge_srt(rh)\n",
        "  return merge(lh,rh)\n",
        "\n",
        "arr = [60,20,40,10,90,30,80,50]\n",
        "print(merge_srt(arr))"
      ],
      "metadata": {
        "colab": {
          "base_uri": "https://localhost:8080/"
        },
        "id": "kTMxTi2GEMUw",
        "outputId": "fe73c19a-b619-42f5-8a8c-1dfc20431708"
      },
      "execution_count": 6,
      "outputs": [
        {
          "output_type": "stream",
          "name": "stdout",
          "text": [
            "[10, 20, 30, 40, 50, 60, 80, 90]\n"
          ]
        }
      ]
    },
    {
      "cell_type": "markdown",
      "source": [
        "HEAP SORT"
      ],
      "metadata": {
        "id": "qc0IqbhCETBT"
      }
    },
    {
      "cell_type": "code",
      "source": [
        "def heapify(arr, n, i):\n",
        "  largest = i\n",
        "  l = 2*i+1\n",
        "  r = 2*i+2\n",
        "  if l<n and arr[l]>arr[largest]:\n",
        "    largest = l\n",
        "  if r<n and arr[r]>arr[largest]:\n",
        "    largest = r\n",
        "  if largest != i:\n",
        "    arr[i], arr[largest] = arr[largest], arr[i]\n",
        "    heapify(arr, n, largest)\n",
        "\n",
        "def heap_srt(arr):\n",
        "  n = len(arr)\n",
        "  for i in range(n//2-1, -1, -1):\n",
        "    heapify(arr, n, i)\n",
        "\n",
        "  for i in range(n-1, 0, -1):\n",
        "    arr[i], arr[0] = arr[0], arr[i]\n",
        "    heapify(arr, i, 0)\n",
        "\n",
        "arr = [60,20,40,10,90,30,80,50]\n",
        "heap_srt(arr)\n",
        "print(arr)"
      ],
      "metadata": {
        "colab": {
          "base_uri": "https://localhost:8080/"
        },
        "id": "0YtGvfw6ETca",
        "outputId": "05cde3f7-ede0-46ab-d160-cfdd0f89e1ed"
      },
      "execution_count": 7,
      "outputs": [
        {
          "output_type": "stream",
          "name": "stdout",
          "text": [
            "[10, 20, 30, 40, 50, 60, 80, 90]\n"
          ]
        }
      ]
    },
    {
      "cell_type": "markdown",
      "source": [
        "**TOPOLOGICAL SORT**"
      ],
      "metadata": {
        "id": "297mEP-xEYNL"
      }
    },
    {
      "cell_type": "code",
      "source": [
        "def topological_sort(V,adj,visited,stack):\n",
        "  visited[V] = True\n",
        "  for i in adj[V]:\n",
        "    if not visited[i]:\n",
        "      topological_sort(i,adj,visited,stack)\n",
        "  stack.append(V)\n",
        "  return stack\n",
        "\n",
        "def topo_sort(V,adj):\n",
        "  visited = [False]*V\n",
        "  stack = []\n",
        "  for i in range(V):\n",
        "    if not visited[i]:\n",
        "      topological_sort(i,adj,visited,stack)\n",
        "  print(\"Toplogical sorting of the graph is: \")\n",
        "  while stack:\n",
        "    print(stack.pop(), end=\" \")\n",
        "\n",
        "V = 6\n",
        "edges = [[5,2],[5,0],[4,0],[4,1],[2,3],[3,1]]\n",
        "adj = [[] for i in range(V)]\n",
        "for i in edges:\n",
        "  adj[i[0]].append(i[1])\n",
        "topo_sort(V,adj)\n"
      ],
      "metadata": {
        "colab": {
          "base_uri": "https://localhost:8080/"
        },
        "id": "GaTEMml3EYkP",
        "outputId": "d7193439-6de1-4e5d-f2ea-773312a356be"
      },
      "execution_count": 8,
      "outputs": [
        {
          "output_type": "stream",
          "name": "stdout",
          "text": [
            "Toplogical sorting of the graph is: \n",
            "5 4 2 3 1 0 "
          ]
        }
      ]
    },
    {
      "cell_type": "markdown",
      "source": [
        "BFS"
      ],
      "metadata": {
        "id": "xWI81cWtEdPj"
      }
    },
    {
      "cell_type": "code",
      "source": [
        "def BFS(graph,V,src):\n",
        "  visited = [False] * V\n",
        "  queue = []\n",
        "  queue.append(src)\n",
        "  visited[src] = True\n",
        "  path =[]\n",
        "\n",
        "  while queue :\n",
        "    u = queue.pop(0)\n",
        "    # print(u , end =\" \")\n",
        "    path.append(u)\n",
        "    for v in graph.get(u,[]):\n",
        "      if visited[v] == False:\n",
        "        queue.append(v)\n",
        "        visited[v] = True\n",
        "  return path\n",
        "\n",
        "graph = {0:[1,2], 1:[3], 2:[4,5], 3:[], 4:[], 5:[] }\n",
        "V = 6\n",
        "src = 0\n",
        "print(BFS(graph,V,src))"
      ],
      "metadata": {
        "colab": {
          "base_uri": "https://localhost:8080/"
        },
        "id": "1-RHyoU6Edp_",
        "outputId": "381209c8-8be2-4985-f33b-f805355d9f3c"
      },
      "execution_count": 9,
      "outputs": [
        {
          "output_type": "stream",
          "name": "stdout",
          "text": [
            "[0, 1, 2, 3, 4, 5]\n"
          ]
        }
      ]
    },
    {
      "cell_type": "markdown",
      "source": [
        "DFS"
      ],
      "metadata": {
        "id": "CQPfUXQ6Egf-"
      }
    },
    {
      "cell_type": "code",
      "source": [
        "def DFS(graph,V,src):\n",
        "  visited = [False] * V\n",
        "  stack = []\n",
        "  stack.append(src)\n",
        "  path = []\n",
        "\n",
        "  while stack:\n",
        "    u = stack.pop()\n",
        "    # print(u, end=\" \")\n",
        "    path.append(u)\n",
        "    if visited[u] == False:\n",
        "      visited[u] = True\n",
        "    for v in graph.get(u,[]):\n",
        "      if visited[v] == False:\n",
        "        stack.append(v)\n",
        "  return path\n",
        "\n",
        "graph = {0:[1,2], 1:[3], 2:[4,5], 3:[], 4:[], 5:[] }\n",
        "V = 6\n",
        "src = 0\n",
        "print(DFS(graph,V,src))"
      ],
      "metadata": {
        "colab": {
          "base_uri": "https://localhost:8080/"
        },
        "id": "Og5UOACQEg21",
        "outputId": "865ba1f9-80d0-4bdb-97e7-3b2976d16382"
      },
      "execution_count": 10,
      "outputs": [
        {
          "output_type": "stream",
          "name": "stdout",
          "text": [
            "[0, 2, 5, 4, 1, 3]\n"
          ]
        }
      ]
    }
  ]
}