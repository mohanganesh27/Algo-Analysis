{
  "nbformat": 4,
  "nbformat_minor": 0,
  "metadata": {
    "colab": {
      "provenance": []
    },
    "kernelspec": {
      "name": "python3",
      "display_name": "Python 3"
    },
    "language_info": {
      "name": "python"
    }
  },
  "cells": [
    {
      "cell_type": "markdown",
      "source": [
        "Ford Fulkerson"
      ],
      "metadata": {
        "id": "h2vomlBL5h-n"
      }
    },
    {
      "cell_type": "code",
      "execution_count": 1,
      "metadata": {
        "colab": {
          "base_uri": "https://localhost:8080/"
        },
        "id": "yzW39kFS5DQi",
        "outputId": "4adf62a1-bd41-42a4-da1e-796e4984d294"
      },
      "outputs": [
        {
          "output_type": "stream",
          "name": "stdout",
          "text": [
            "Augmentation path:\n",
            "S--> 1--> 3--> 5\n",
            "BottleNeck (min flow added to max flow)=2\n",
            "\n",
            "Augmentation path:\n",
            "S--> 1--> 4--> 5\n",
            "BottleNeck (min flow added to max flow)=1\n",
            "\n",
            "Augmentation path:\n",
            "S--> 2--> 4--> 5\n",
            "BottleNeck (min flow added to max flow)=3\n",
            "\n",
            "Augmentation path:\n",
            "S--> 2--> 1--> 4--> 5\n",
            "BottleNeck (min flow added to max flow)=2\n",
            "\n",
            "Maximum flow: 8\n"
          ]
        }
      ],
      "source": [
        "import numpy as np\n",
        "from collections import deque\n",
        "def ford_fulkerson(graph,source,sink):\n",
        "  vertex_count=len(graph)\n",
        "  parent=[-1] * vertex_count  #array to store the augmenting path\n",
        "  max_flow=0   #initialize the max flow to 0\n",
        "  residual_graph=np.copy(graph)  #create a residual graph\n",
        "\n",
        "  while bfs(residual_graph,source,sink,parent): #while a path exists from source to sink\n",
        "    #find the bottle neck capacity\n",
        "    path_flow=float('inf')\n",
        "    v=sink\n",
        "    path_string=\"\"  #string to store the augmenting path\n",
        "    while v!=source:\n",
        "      u=parent[v]\n",
        "      path_flow=min(path_flow,residual_graph[u][v])\n",
        "      path_string=f\"--> {v}\"+path_string\n",
        "      v=u\n",
        "    path_string=f\"S\"+path_string #complete the path string\n",
        "    print(f\"Augmentation path:\\n{path_string}\")\n",
        "    print(f\"BottleNeck (min flow added to max flow)={path_flow}\\n\")\n",
        "\n",
        "    #update residual capacities of the edges and reverse edges along the path\n",
        "    v=sink\n",
        "    while v!=source:\n",
        "      u=parent[v]\n",
        "      residual_graph[u][v]-=path_flow\n",
        "      residual_graph[v][u]+=path_flow\n",
        "      v=u\n",
        "    max_flow+=path_flow #add the flow of this path to the total flow\n",
        "  return max_flow\n",
        "def bfs(residual_graph,source,sink,parent):\n",
        "  vertex_count=len(residual_graph)\n",
        "  visited=[False]*vertex_count #track visited vertices\n",
        "  queue=deque([source]) #queue for bfs\n",
        "  parent[source]=-1  #no parent for source\n",
        "  visited[source]=True #mark source as visited\n",
        "  while queue:\n",
        "    u=queue.popleft()  #deque a vertex\n",
        "    #explore all adjacent vertices v\n",
        "    for v in range(vertex_count):\n",
        "      if not visited[v] and residual_graph[u][v]>0: #if there is an edge and v is not visited\n",
        "        queue.append(v)\n",
        "        parent[v]=u #set parent of v to u\n",
        "        visited[v]=True #mark v as visited\n",
        "\n",
        "        if v==sink: # if sink is reached\n",
        "          return True\n",
        "  return False # if no path is found from source to sink\n",
        "\n",
        "#graph=[\n",
        " #   [0,10,5,15,0,0,0,0], #edges from s to other vertices\n",
        " #   [0,0,4,0,9,15,0,0],\n",
        "  #  [0,0,0,4,0,8,0,0],\n",
        "   # [0,0,0,0,0,0,30,0],\n",
        "    #[0,0,0,0,0,15,0,10],\n",
        "    #[0,0,0,0,0,0,15,10],\n",
        "    #[0,0,6,0,0,0,0,10],\n",
        "    #[0,0,0,0,0,0,0,0] #T's row(no edges leaving T)\n",
        "#]\n",
        "graph=[\n",
        "    [0,3,7,0,0,0],\n",
        "    [0,0,0,3,4,0],\n",
        "    [0,5,0,0,3,0],\n",
        "    [0,0,0,0,3,2],\n",
        "    [0,0,0,0,0,6],\n",
        "    [0,0,0,0,0,0]\n",
        "]\n",
        "source=0 #vertex S is 0\n",
        "sink=len(graph)-1 #vertex T is the last one\n",
        "max_flow=ford_fulkerson(graph,source,sink)\n",
        "print(f\"Maximum flow: {max_flow}\")\n",
        "\n"
      ]
    },
    {
      "cell_type": "markdown",
      "source": [
        "DFS Iterative"
      ],
      "metadata": {
        "id": "sTL134905lqk"
      }
    },
    {
      "cell_type": "code",
      "source": [
        "def dfs_iterative(C,F,s,t):\n",
        "  stack=[s]\n",
        "  paths={s:[]}\n",
        "  #print(paths)\n",
        "  if s==t:\n",
        "    return paths[s]\n",
        "  while(stack):\n",
        "    u=stack.pop()\n",
        "    for v in range(len(C)):\n",
        "      #print(\"paths:\",paths,\"v:\",v,\"u:\",u)\n",
        "      if (C[u][v]-F[u][v])>0 and v not in paths:\n",
        "        paths[v]=paths[u]+[(u,v)]\n",
        "        #print(paths[v])\n",
        "        if v==t:\n",
        "          return paths[v]\n",
        "        stack.append(v)\n",
        "        #print(\"stack\",stack)\n",
        "  return None\n",
        "\n",
        "def max_flow(C,s,t):\n",
        "  n=len(C) #C is capacity matrix\n",
        "  F=[[0]*n for i in range(n)] # F is flow matrix\n",
        "  path=dfs_iterative(C,F,s,t)\n",
        "  #print(\"Path\",path)\n",
        "  while path!=None:\n",
        "    flow=min(C[u][v]-F[u][v] for u,v in path)\n",
        "    for u,v in path:\n",
        "      F[u][v]+=flow\n",
        "      F[v][u]-=flow\n",
        "    print_flow_matrix(F)\n",
        "    path=dfs_iterative(C,F,s,t)\n",
        "    print(\"\\n SELECTED PATH\",path)\n",
        "  return sum(F[s][i] for i in range(n))\n",
        "\n",
        "def print_flow_matrix(F):\n",
        "    print(\"Flow Matrix:\")\n",
        "    for row in F:\n",
        "        print(\" \".join(f\"{cell:3}\" for cell in row))\n",
        "\n",
        "#C = [\n",
        " #   [0, 3, 7, 0, 0, 0],   # Edges from source S to other vertices\n",
        "  # [0, 0, 0, 3, 4, 0],\n",
        "   # [0, 5, 0, 0, 3, 0],\n",
        "    #[0, 0, 0, 0, 3, 2],\n",
        "    #[0, 0, 0, 0, 0, 6],\n",
        "    #[0, 0,  0, 0, 0, 0]    # Sink T's row (no edges leaving T)\n",
        "#]\n",
        "C = [\n",
        "    [0, 10, 8, 0, 0, 0],   # Edges from source S to other vertices\n",
        "   [0, 0, 5, 5, 0, 0],\n",
        "    [0, 4, 0, 0, 10, 0],\n",
        "    [0, 0, 7, 0, 6, 3],\n",
        "    [0, 0, 0, 10, 0, 14],\n",
        "    [0, 0,  0, 0, 0, 0]    # Sink T's row (no edges leaving T)\n",
        "]\n",
        "source = 0\n",
        "sink = len(C) - 1\n",
        "\n",
        "\n",
        "max_flow_value = max_flow(C, source, sink)\n",
        "print(\"Ford-Fulkerson algorithm using iterative dfs\")\n",
        "print(\"max_flow_value is: \", max_flow_value)"
      ],
      "metadata": {
        "colab": {
          "base_uri": "https://localhost:8080/"
        },
        "id": "hnYdsNLC5lTJ",
        "outputId": "5736701b-e655-44c5-eb27-12a6a6bc62f4"
      },
      "execution_count": 2,
      "outputs": [
        {
          "output_type": "stream",
          "name": "stdout",
          "text": [
            "Flow Matrix:\n",
            "  0   0   8   0   0   0\n",
            "  0   0   0   0   0   0\n",
            " -8   0   0   0   8   0\n",
            "  0   0   0   0   0   0\n",
            "  0   0  -8   0   0   8\n",
            "  0   0   0   0  -8   0\n",
            "\n",
            " SELECTED PATH [(0, 1), (1, 3), (3, 5)]\n",
            "Flow Matrix:\n",
            "  0   3   8   0   0   0\n",
            " -3   0   0   3   0   0\n",
            " -8   0   0   0   8   0\n",
            "  0  -3   0   0   0   3\n",
            "  0   0  -8   0   0   8\n",
            "  0   0   0  -3  -8   0\n",
            "\n",
            " SELECTED PATH [(0, 1), (1, 3), (3, 4), (4, 5)]\n",
            "Flow Matrix:\n",
            "  0   5   8   0   0   0\n",
            " -5   0   0   5   0   0\n",
            " -8   0   0   0   8   0\n",
            "  0  -5   0   0   2   3\n",
            "  0   0  -8  -2   0  10\n",
            "  0   0   0  -3 -10   0\n",
            "\n",
            " SELECTED PATH [(0, 1), (1, 2), (2, 4), (4, 5)]\n",
            "Flow Matrix:\n",
            "  0   7   8   0   0   0\n",
            " -7   0   2   5   0   0\n",
            " -8  -2   0   0  10   0\n",
            "  0  -5   0   0   2   3\n",
            "  0   0 -10  -2   0  12\n",
            "  0   0   0  -3 -12   0\n",
            "\n",
            " SELECTED PATH None\n",
            "Ford-Fulkerson algorithm using iterative dfs\n",
            "max_flow_value is:  15\n"
          ]
        }
      ]
    },
    {
      "cell_type": "markdown",
      "source": [
        "DFS Recursive"
      ],
      "metadata": {
        "id": "UxF9uUa65mTo"
      }
    },
    {
      "cell_type": "code",
      "source": [
        "def dfs_recursive(C, F, u, t, path):\n",
        "    # If we reach the sink, return the path found so far\n",
        "    if u == t:\n",
        "        return path\n",
        "    for v in range(len(C)):\n",
        "        # Check if there's available capacity and if 'v' is not in the current path\n",
        "        #print(\"path:\",path,\"u:\",u,\"v:\",v)\n",
        "        if (C[u][v] - F[u][v] > 0) and (v not in [p[1] for p in path]):\n",
        "            # Recursive call to continue searching from the next node\n",
        "            result = dfs_recursive(C, F, v, t, path + [(u, v)])\n",
        "            # If a path is found, return it\n",
        "            if result is not None:\n",
        "                return result\n",
        "    return None  # No path found\n",
        "\n",
        "def max_flow(C, s, t):\n",
        "    n = len(C)  # C is the capacity matrix\n",
        "    F = [[0] * n for i in range(n)]  # Initialize flow matrix\n",
        "    path = dfs_recursive(C, F, s, t, [])  # Start recursive DFS from source 's'\n",
        "    #print(\"path \", path)\n",
        "    while path is not None:\n",
        "        # Calculate the flow in the current path as the minimum residual capacity\n",
        "        flow = min(C[u][v] - F[u][v] for u, v in path)\n",
        "        # Update residual capacities along the path\n",
        "        for u, v in path:\n",
        "            F[u][v] += flow\n",
        "            F[v][u] -= flow\n",
        "        #print_flow_matrix(F)\n",
        "        path = dfs_recursive(C, F, s, t, [])  # Find the next augmenting path\n",
        "        print(\"SELECTED PATH \", path)\n",
        "    return sum(F[s][i] for i in range(n))  # Total flow from source\n",
        "\n",
        "def print_flow_matrix(F):\n",
        "    print(\"Flow Matrix:\")\n",
        "    for row in F:\n",
        "        print(\" \".join(f\"{cell:3}\" for cell in row))\n",
        "\n",
        "# Test with the provided capacity matrix\n",
        "C = [\n",
        "    [0, 10, 8, 0, 0, 0],   # Edges from source S to other vertices\n",
        "   [0, 0, 5, 5, 0, 0],\n",
        "    [0, 4, 0, 0, 10, 0],\n",
        "    [0, 0, 7, 0, 6, 3],\n",
        "    [0, 0, 0, 10, 0, 14],\n",
        "    [0, 0,  0, 0, 0, 0]    # Sink T's row (no edges leaving T)\n",
        "]\n",
        "\n",
        "\n",
        "source = 0\n",
        "sink = len(C) - 1\n",
        "\n",
        "max_flow_value = max_flow(C, source, sink)\n",
        "print(\"Ford-Fulkerson algorithm using recursive dfs\")\n",
        "print(\"max_flow_value is:\", max_flow_value)"
      ],
      "metadata": {
        "colab": {
          "base_uri": "https://localhost:8080/"
        },
        "id": "P2hRxEmF5muo",
        "outputId": "3c839809-25c3-47f1-a34a-91f61e878514"
      },
      "execution_count": 3,
      "outputs": [
        {
          "output_type": "stream",
          "name": "stdout",
          "text": [
            "SELECTED PATH  [(0, 1), (1, 0), (0, 2), (2, 4), (4, 5)]\n",
            "SELECTED PATH  [(0, 1), (1, 0), (0, 2), (2, 4), (4, 5)]\n",
            "SELECTED PATH  [(0, 1), (1, 0), (0, 2), (2, 4), (4, 5)]\n",
            "SELECTED PATH  [(0, 1), (1, 3), (3, 4), (4, 5)]\n",
            "SELECTED PATH  None\n",
            "Ford-Fulkerson algorithm using recursive dfs\n",
            "max_flow_value is: 15\n"
          ]
        }
      ]
    }
  ]
}