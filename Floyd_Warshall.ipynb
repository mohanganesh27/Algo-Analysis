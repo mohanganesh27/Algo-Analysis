{
  "nbformat": 4,
  "nbformat_minor": 0,
  "metadata": {
    "colab": {
      "provenance": [],
      "authorship_tag": "ABX9TyPMx6UaiWIlAtkuj1wToKhQ",
      "include_colab_link": true
    },
    "kernelspec": {
      "name": "python3",
      "display_name": "Python 3"
    },
    "language_info": {
      "name": "python"
    }
  },
  "cells": [
    {
      "cell_type": "markdown",
      "metadata": {
        "id": "view-in-github",
        "colab_type": "text"
      },
      "source": [
        "<a href=\"https://colab.research.google.com/github/mohanganesh27/Algo-Analysis/blob/main/Floyd_Warshall.ipynb\" target=\"_parent\"><img src=\"https://colab.research.google.com/assets/colab-badge.svg\" alt=\"Open In Colab\"/></a>"
      ]
    },
    {
      "cell_type": "markdown",
      "source": [
        "Positive Edges"
      ],
      "metadata": {
        "id": "p1uMecbLAx5F"
      }
    },
    {
      "cell_type": "code",
      "execution_count": 2,
      "metadata": {
        "colab": {
          "base_uri": "https://localhost:8080/"
        },
        "id": "o746Y3L4_CFl",
        "outputId": "aea61ba1-30b6-4300-91c5-7c3ca6549daf"
      },
      "outputs": [
        {
          "output_type": "stream",
          "name": "stdout",
          "text": [
            "distances:  {0: 0, 1: 4, 2: 12, 3: 19, 4: 21, 5: 11, 6: 9, 7: 8, 8: 14}\n",
            "predecessors: {0: None, 1: 0, 2: 1, 3: 2, 4: 5, 5: 6, 6: 7, 7: 0, 8: 2}\n"
          ]
        }
      ],
      "source": [
        "import heapq\n",
        "def dijkstra_algo(graph,start):\n",
        "  #initialize distances and priority queue\n",
        "  dist={vertex:float('infinity') for vertex in graph}\n",
        "  prev={vertex:None for vertex in graph}\n",
        "  dist[start]=0\n",
        "  priority_queue=[(0,start)]\n",
        "  while priority_queue:\n",
        "    current_dist,u=heapq.heappop(priority_queue)\n",
        "    #skip processing if we already found a better path\n",
        "    if current_dist>dist[u]:\n",
        "      continue\n",
        "    #expore neighbors\n",
        "    for neighbor,weight in graph[u]:\n",
        "      distance=current_dist+weight\n",
        "      #only consider this new path if it's better\n",
        "      if distance<dist[neighbor]:\n",
        "        dist[neighbor]=distance\n",
        "        prev[neighbor]=u\n",
        "        heapq.heappush(priority_queue,(distance,neighbor))\n",
        "  return dist,prev\n",
        "\n",
        "#define the graph as an adjacency list\n",
        "graph={0:[(1,4),(7,8)],\n",
        "       1:[(2,8),(7,11),(0,4)],\n",
        "       2:[(8,2),(3,7),(5,4),(1,8)],\n",
        "       3:[(4,9),(5,14),(2,7)],\n",
        "       4:[(3,9),(5,10)],\n",
        "       5:[(4,10),(2,4),(3,14),(6,2)],\n",
        "       6:[(8,6),(5,2),(7,1)],\n",
        "       7:[(8,7),(6,1),(0,8),(1,11)],\n",
        "       8:[(2,2),(7,7),(6,6)]}\n",
        "start_vertex=0\n",
        "distances,predecessors=dijkstra_algo(graph,start_vertex)\n",
        "print(\"distances: \",distances)\n",
        "print(\"predecessors:\",predecessors)\n",
        "\n",
        "\n"
      ]
    },
    {
      "cell_type": "markdown",
      "source": [
        "Negative Edges"
      ],
      "metadata": {
        "id": "JRpuA3JjAz8x"
      }
    },
    {
      "cell_type": "code",
      "source": [
        "import numpy as np\n",
        "nV=6\n",
        "INF=float('inf')\n",
        "def floyd(G):\n",
        "  dist=list(map(lambda i:list(map(lambda j:j,i)),G))\n",
        "  for k in range(nV):\n",
        "    for i in range(nV):\n",
        "      for j in range(nV):\n",
        "        dist[i][j]=min(dist[i][j],dist[i][k]+dist[k][j])\n",
        "\n",
        "  #detect negative weight cycle\n",
        "  for i in range(nV):\n",
        "    if dist[i][j]<0:\n",
        "      return \"Negative weight cycle Detected\"\n",
        "  return dist\n",
        "\n",
        "def print_solution(dist):\n",
        "  for i in range(nV):\n",
        "    for j in range(nV):\n",
        "      if dist[i][j]==INF:\n",
        "        print(\"INF\",end=\" \")\n",
        "      else:\n",
        "        print(f\"{dist[i][j]:7}\",end=\" \")\n",
        "    print()\n",
        "G=[[0,INF,INF,INF,-1,INF],\n",
        "   [1,0,INF,2,0,INF],\n",
        "   [INF,2,0,INF,INF,-8],\n",
        "   [-4,INF,INF,0,-5,INF],\n",
        "   [INF,7,INF,INF,0,INF],\n",
        "   [INF,5,10,INF,INF,0]]\n",
        "result=floyd(G)\n",
        "\n",
        "if isinstance(result,str):\n",
        "  print(result)\n",
        "else:\n",
        "  print(\"Shortest distances between every pair of vertices:\")\n",
        "  print_solution(result)"
      ],
      "metadata": {
        "colab": {
          "base_uri": "https://localhost:8080/"
        },
        "id": "swu3SRj9A0UX",
        "outputId": "2962341e-6e09-4a01-e819-b0f44fe1dc87"
      },
      "execution_count": 1,
      "outputs": [
        {
          "output_type": "stream",
          "name": "stdout",
          "text": [
            "Negative weight cycle Detected\n"
          ]
        }
      ]
    }
  ]
}