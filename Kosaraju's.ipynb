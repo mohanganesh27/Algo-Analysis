{
  "nbformat": 4,
  "nbformat_minor": 0,
  "metadata": {
    "colab": {
      "provenance": [],
      "authorship_tag": "ABX9TyOLrJNPoDybEMwyC6JaF8iq",
      "include_colab_link": true
    },
    "kernelspec": {
      "name": "python3",
      "display_name": "Python 3"
    },
    "language_info": {
      "name": "python"
    }
  },
  "cells": [
    {
      "cell_type": "markdown",
      "metadata": {
        "id": "view-in-github",
        "colab_type": "text"
      },
      "source": [
        "<a href=\"https://colab.research.google.com/github/mohanganesh27/Algo-Analysis/blob/main/Kosaraju's.ipynb\" target=\"_parent\"><img src=\"https://colab.research.google.com/assets/colab-badge.svg\" alt=\"Open In Colab\"/></a>"
      ]
    },
    {
      "cell_type": "code",
      "execution_count": 1,
      "metadata": {
        "colab": {
          "base_uri": "https://localhost:8080/"
        },
        "id": "lPLB6Zp6B9Na",
        "outputId": "8b97e489-7ceb-47f6-fddb-7e1102c260c0"
      },
      "outputs": [
        {
          "output_type": "stream",
          "name": "stdout",
          "text": [
            "Strongly Connected Components: [[0, 1, 2], [3], [4]]\n"
          ]
        }
      ],
      "source": [
        "from collections import defaultdict, deque\n",
        "\n",
        "class Graph:\n",
        "    def __init__(self, vertices = 0):\n",
        "        self.graph = defaultdict(list)\n",
        "        self.V = vertices\n",
        "\n",
        "    def add_edge(self, u, v):\n",
        "        self.graph[u].append(v)\n",
        "\n",
        "    def _dfs(self, V, visited, stack):\n",
        "        visited[V] = True\n",
        "        for neighbor in self.graph[V]:\n",
        "            if not visited[neighbor]:\n",
        "                self._dfs(neighbor, visited, stack)\n",
        "        stack.append(V)\n",
        "\n",
        "    def _transpose(self):\n",
        "        transposed_graph = Graph(self.V)\n",
        "        for node in self.graph:\n",
        "            for neighbor in self.graph[node]:\n",
        "                transposed_graph.add_edge(neighbor, node)\n",
        "        return transposed_graph\n",
        "\n",
        "    def _fill_order(self, visited, stack):\n",
        "        for i in range(self.V):\n",
        "          if not visited[i]:\n",
        "            self._dfs(i, visited, stack)\n",
        "\n",
        "    def _dfs_util(self, V, visited, component):\n",
        "        visited[V] = True\n",
        "        component.append(V)\n",
        "        for neighbor in self.graph[V]:\n",
        "            if not visited[neighbor]:\n",
        "                self._dfs_util(neighbor, visited, component)\n",
        "\n",
        "    def Kosaraju_scc(self):\n",
        "      stack = deque()\n",
        "      visited = [False]*self.V\n",
        "      self._fill_order(visited, stack)\n",
        "      transposed_graph = self._transpose()\n",
        "      visited = [False]*self.V\n",
        "      scc_list = []\n",
        "      while stack:\n",
        "        node = stack.pop()\n",
        "        if not visited[node]:\n",
        "          component = []\n",
        "          transposed_graph._dfs_util(node, visited, component)\n",
        "          scc_list.append(component)\n",
        "      return scc_list\n",
        "\n",
        "g = Graph(5)\n",
        "\n",
        "g.add_edge(1, 0)\n",
        "g.add_edge(0, 2)\n",
        "g.add_edge(2, 1)\n",
        "g.add_edge(0, 3)\n",
        "g.add_edge(3, 4)\n",
        "\n",
        "sccs = g.Kosaraju_scc()\n",
        "print(\"Strongly Connected Components:\",sccs)"
      ]
    }
  ]
}