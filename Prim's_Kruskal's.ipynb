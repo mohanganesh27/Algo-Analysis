{
  "nbformat": 4,
  "nbformat_minor": 0,
  "metadata": {
    "colab": {
      "provenance": [],
      "authorship_tag": "ABX9TyMpxaEctD+eF+lPsjbHkP7r",
      "include_colab_link": true
    },
    "kernelspec": {
      "name": "python3",
      "display_name": "Python 3"
    },
    "language_info": {
      "name": "python"
    }
  },
  "cells": [
    {
      "cell_type": "markdown",
      "metadata": {
        "id": "view-in-github",
        "colab_type": "text"
      },
      "source": [
        "<a href=\"https://colab.research.google.com/github/mohanganesh27/Algo-Analysis/blob/main/Prim's_Kruskal's.ipynb\" target=\"_parent\"><img src=\"https://colab.research.google.com/assets/colab-badge.svg\" alt=\"Open In Colab\"/></a>"
      ]
    },
    {
      "cell_type": "markdown",
      "source": [
        "Prim's"
      ],
      "metadata": {
        "id": "K05dDGXoC6iM"
      }
    },
    {
      "cell_type": "code",
      "execution_count": 1,
      "metadata": {
        "colab": {
          "base_uri": "https://localhost:8080/"
        },
        "id": "c8YirSQsCmJN",
        "outputId": "d4fb4bab-359b-45e7-95cf-8ab579dfc4a0"
      },
      "outputs": [
        {
          "output_type": "stream",
          "name": "stdout",
          "text": [
            "Distances: {0: 0, 1: 4, 2: 12, 3: 19, 4: 21, 5: 11, 6: 9, 7: 8, 8: 14}\n",
            "Predecessors: {0: None, 1: 0, 2: 1, 3: 2, 4: 5, 5: 6, 6: 7, 7: 0, 8: 2}\n"
          ]
        }
      ],
      "source": [
        "import heapq\n",
        "def dijkstra(graph,start):\n",
        "  dist = {vertex:float('infinity') for vertex in graph}\n",
        "  prev = {vertex:None for vertex in graph}\n",
        "  dist[start] = 0\n",
        "  prior_q = [(0,start)]\n",
        "  while prior_q:\n",
        "    (current_dist,u) = heapq.heappop(prior_q)\n",
        "    if current_dist > dist[u]:\n",
        "      continue\n",
        "    for neighbor, weight in graph[u]:\n",
        "      distance = current_dist + weight\n",
        "      if distance < dist[neighbor]:\n",
        "        dist[neighbor] = distance\n",
        "        prev[neighbor] = u\n",
        "        heapq.heappush(prior_q,(distance,neighbor))\n",
        "  return dist,prev\n",
        "\n",
        "graph = {\n",
        "    0: [(1,4), (7,8)],\n",
        "    1: [(0,4), (2,8), (7,11)],\n",
        "    2: [(1,8), (3,7), (5,4), (8,2)],\n",
        "    3: [(2,7), (4,9), (5,14)],\n",
        "    4: [(3,9), (5,10)],\n",
        "    5: [(2,4), (3,14), (4,10), (6,2)],\n",
        "    6: [(5,2), (7,1), (8,6)],\n",
        "    7: [(0,8), (1,11), (6,1), (8,7)],\n",
        "    8: [(2,2), (6,6), (7,7)]\n",
        "}\n",
        "\n",
        "start_vertex = 0\n",
        "dist,prev = dijkstra(graph, start_vertex)\n",
        "\n",
        "print(\"Distances:\", dist)\n",
        "print(\"Predecessors:\", prev)"
      ]
    },
    {
      "cell_type": "markdown",
      "source": [
        "Kruskal's"
      ],
      "metadata": {
        "id": "K1doV_cTC3PI"
      }
    },
    {
      "cell_type": "code",
      "source": [
        "class Graph:\n",
        "  def __init__(self, vertices):\n",
        "    self.V = vertices\n",
        "    self.graph = []\n",
        "  def add_edge(self, u, v, w):\n",
        "    self.graph.append([u, v, w])\n",
        "  def find(self, parent, i):\n",
        "    if parent[i] == i:\n",
        "      return i\n",
        "    return self.find(parent, parent[i])\n",
        "  def apply_union(self, parent, rank, x, y):\n",
        "    xroot = self.find(parent, x)\n",
        "    yroot = self.find(parent, y)\n",
        "    if rank[xroot] < rank[yroot]:\n",
        "      parent[xroot] = yroot\n",
        "    elif rank[xroot] > rank[yroot]:\n",
        "      parent[yroot] = xroot\n",
        "    else:\n",
        "      parent[yroot] = xroot\n",
        "      rank[xroot] += 1\n",
        "  def Kruskal_mst(self):\n",
        "    result = []\n",
        "    i, e = 0, 0\n",
        "    self.graph = sorted(self.graph, key=lambda item: item[2])\n",
        "    parent = []\n",
        "    rank = []\n",
        "\n",
        "    for node in range(self.V):\n",
        "      parent.append(node)\n",
        "      rank.append(0)\n",
        "\n",
        "    while e < self.V - 1:\n",
        "      u, v, w = self.graph[i]\n",
        "      i = i + 1\n",
        "      x = self.find(parent, u)\n",
        "      y = self.find(parent, v)\n",
        "      if x != y:\n",
        "        e = e + 1\n",
        "        result.append([u, v, w])\n",
        "        self.apply_union(parent, rank, x, y)\n",
        "\n",
        "      for u, v, weight in result:\n",
        "        print(f\"{u} - {v}: {weight}\")\n",
        "\n",
        "g = Graph(7)\n",
        "g.add_edge(0, 1, 28)\n",
        "g.add_edge(0, 2, 16)\n",
        "g.add_edge(1, 6, 14)\n",
        "g.add_edge(2, 3, 12)\n",
        "g.add_edge(3, 4, 22)\n",
        "g.add_edge(3, 6, 18)\n",
        "g.add_edge(4, 5, 25)\n",
        "g.add_edge(4, 6, 24)\n",
        "g.add_edge(5, 0, 10)\n",
        "g.Kruskal_mst()"
      ],
      "metadata": {
        "colab": {
          "base_uri": "https://localhost:8080/"
        },
        "id": "aBLnGEpaeK5j",
        "outputId": "0856f9dd-736b-440f-f60e-f8c28644ace9"
      },
      "execution_count": null,
      "outputs": [
        {
          "output_type": "stream",
          "name": "stdout",
          "text": [
            "5 - 0: 10\n",
            "5 - 0: 10\n",
            "2 - 3: 12\n",
            "5 - 0: 10\n",
            "2 - 3: 12\n",
            "1 - 6: 14\n",
            "5 - 0: 10\n",
            "2 - 3: 12\n",
            "1 - 6: 14\n",
            "0 - 2: 16\n",
            "5 - 0: 10\n",
            "2 - 3: 12\n",
            "1 - 6: 14\n",
            "0 - 2: 16\n",
            "3 - 6: 18\n",
            "5 - 0: 10\n",
            "2 - 3: 12\n",
            "1 - 6: 14\n",
            "0 - 2: 16\n",
            "3 - 6: 18\n",
            "3 - 4: 22\n"
          ]
        }
      ]
    }
  ]
}