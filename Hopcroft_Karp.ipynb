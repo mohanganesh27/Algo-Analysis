{
  "nbformat": 4,
  "nbformat_minor": 0,
  "metadata": {
    "colab": {
      "provenance": [],
      "authorship_tag": "ABX9TyOkO1TWlYP2gW7jerT7lqgB",
      "include_colab_link": true
    },
    "kernelspec": {
      "name": "python3",
      "display_name": "Python 3"
    },
    "language_info": {
      "name": "python"
    }
  },
  "cells": [
    {
      "cell_type": "markdown",
      "metadata": {
        "id": "view-in-github",
        "colab_type": "text"
      },
      "source": [
        "<a href=\"https://colab.research.google.com/github/mohanganesh27/Algo-Analysis/blob/main/Hopcroft_Karp.ipynb\" target=\"_parent\"><img src=\"https://colab.research.google.com/assets/colab-badge.svg\" alt=\"Open In Colab\"/></a>"
      ]
    },
    {
      "cell_type": "code",
      "execution_count": 1,
      "metadata": {
        "colab": {
          "base_uri": "https://localhost:8080/"
        },
        "id": "tLUT9UKeFGgB",
        "outputId": "1d6fee58-c0a0-4750-9876-4c4d464dc56b"
      },
      "outputs": [
        {
          "output_type": "stream",
          "name": "stdout",
          "text": [
            "Size of maximum matching is 4\n"
          ]
        }
      ],
      "source": [
        "from queue import Queue\n",
        "INF = float('inf')\n",
        "NIL = 0\n",
        "\n",
        "class Bigraph(object):\n",
        "  def __init__(self, m ,n):\n",
        "    self.__m = m\n",
        "    self.__n = n\n",
        "    self.__adj = [[] for _ in range(m+1)]\n",
        "\n",
        "  def add_edge(self, u, v):\n",
        "    self.__adj[u].append(v)\n",
        "\n",
        "  def bfs(self):\n",
        "    Q = Queue()\n",
        "    for u in range (1, self.__m+1):\n",
        "      if self.__pairU[u] == NIL:\n",
        "          self.__dist[u] = 0\n",
        "          Q.put(u)\n",
        "      else:\n",
        "          self.__dist[u] = INF\n",
        "      self.__dist[NIL] = INF\n",
        "    while not Q.empty():\n",
        "      u = Q.get()\n",
        "      if self.__dist[u] < self.__dist[NIL]:\n",
        "         for v in self.__adj[u]:\n",
        "           if self.__dist[self.__pairV[v]] == INF:\n",
        "            self.__dist[self.__pairV[v]] = self.__dist[u] + 1\n",
        "            Q.put(self.__pairV[v])\n",
        "    return self.__dist[NIL] != INF\n",
        "\n",
        "  def dfs(self, u):\n",
        "    if u != NIL:\n",
        "     for v in self.__adj[u]:\n",
        "      if self.__dist[self.__pairV[v]] == self.__dist[u] + 1:\n",
        "        if self.dfs(self.__pairV[v]):\n",
        "          self.__pairV[v] = u\n",
        "          self.__pairU[u] = v\n",
        "          return True\n",
        "     self.__dist[u] = INF\n",
        "     return False\n",
        "    return True\n",
        "\n",
        "  def hopcroft_karp(self):\n",
        "    self.__pairU = [0 for _ in range (self.__m+1)]\n",
        "    self.__pairV = [0 for _ in range (self.__n+1)]\n",
        "    self.__dist = [0 for _ in range(self.__m+1)]\n",
        "    result = 0\n",
        "\n",
        "    while self.bfs():\n",
        "      for u in range(1, self.__m+1):\n",
        "        if self.__pairU[u] == NIL:\n",
        "          if self.dfs(u):\n",
        "             result += 1\n",
        "    return result\n",
        "\n",
        "\n",
        "if __name__ == '__main__':\n",
        "  g = Bigraph(4, 4)\n",
        "  g.add_edge(1, 2)\n",
        "  g.add_edge(1, 3)\n",
        "  g.add_edge(2, 1)\n",
        "  g.add_edge(3, 2)\n",
        "  g.add_edge(4, 2)\n",
        "  g.add_edge(4, 4)\n",
        "  print(\"Size of maximum matching is %d\"%g.hopcroft_karp())"
      ]
    }
  ]
}